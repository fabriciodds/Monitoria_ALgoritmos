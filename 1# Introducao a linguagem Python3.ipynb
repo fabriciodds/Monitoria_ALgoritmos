{
 "cells": [
  {
   "attachments": {},
   "cell_type": "markdown",
   "id": "d16ff9d8",
   "metadata": {},
   "source": [
    "# 1. Introdução à linguagem: Python3\n",
    "\n",
    "Autor: Fabrício Domingos da Silva\n",
    "\n",
    "Este é um material básico e introdutório, voltado para as aulas de Algoritmos de Programação e Programação 1, dos respectivos cursos de Engenharia de Computação e Telemática, do Instituto Federal de Educação, Ciência e Tecnologia da Paraíba, campus Campina Grande. Os conteúdos abordam sintaxes básicas, utilização de estruturas da linguagem e outros artifícios mais básicos, somente para que os leitores possam se familiarizar com a linguagem, sem aprofundar muito no assunto. São abordados principalmente os recursos mais utilizados nas disciplinas."
   ]
  },
  {
   "cell_type": "markdown",
   "id": "cd66822f",
   "metadata": {},
   "source": [
    "### Sobre linguagens de programação: Python"
   ]
  },
  {
   "cell_type": "markdown",
   "id": "f7a34b1e",
   "metadata": {},
   "source": [
    "Python é uma linguagem que foi criada no final de 1989, por Guido van Rossum no Institudo de Pesquisa Nacional para Matemática e Ciência da Computação, nos Países Baixos e se trata de linguagem de programação de **alto nível**, **INTERPRETADA**, **Orientada à objetos**, com **tipagem de dados forte** e **dinâmica**. \n",
    "\n",
    "![logo Python](data:image/jpeg;base64,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)\n",
    "\n",
    "\n",
    "Linguagens de programação de alto nível, são linguagens que se aproximam da linguagem normal humana. Elas foram criadas com o intuito de facilitar, tanto a escrita dos códigos e compreensão do fluxo de execução, quanto a detecção de erros e correção de bugs nos códigos. Algumas linguagens de alto nível comuns são Python, Java, etc., já quando se fala em linguagens de baixo nível, a mais famosa é a linguagem Assembly, onde o programador realiza chamadas, que são instruções diretas ao sistema operacional. Existem também, as linguagens de médio nível, como C, no caso da linguagem C, ela é uma considerada uma linguagem de médio nível, pois permite que o programador tenha o controle sob endereços de memória e outros artifícios que se aproximam mais das linguagens de baixo nível, mas ao mesmo tempo, é uma linguagem em que se obtém uma boa interpretação e abstração do que ocorre em cada linha, pois se aproxima bastante da linguagem humana, como as linguagens de alto nível.\n",
    "\n",
    "Quando falamos de execução de códigos em linguagens de programação, temos dois tipos de linguagens de programação, as linguagens interpretadas e as compiladas. As linguagens de programação que são interpretadas realizam a execução de código linha a linha  no código, ou seja, todas as vezes em que se executa um código em uma linguagem interpretada, as linhas do código, em ordem, vão ser transformadas em instruções a serem passadas ao sistema operacional e, em seguida, serem passadas ao processador. Já as linguagens que são compiladas, são lindas pelo compilador e traduzidas em instruções, que vão ser transformadas em arquivo executável, já com todo o código traduzido para o nível de instrução. A compilação de um código permite que seja eliminado um gargalo das linguagens interpretadas, que é a necessidade de sempre realizar a tradução do código em instruções, todas as vezes em que o código é executado.\n",
    "\n",
    "As linguagens de programação, como a linguagem humana, possuem 3 termos importantes a serem memorizados, são eles: Léxico, Sintaxe e Semântica. A parte Léxica de uma linguagem de programação se trata da grámatica que ela possui, as palavras reservadas da linguagem, que são funções e termos já embutidas nas linguagens, como print(), int, if, else, while ou for, em python. A parte sintática, diz respeito, por exemplo, à como essas palavras reservadas são utilizadas no código. Já a semântica de uma linguagem de programação se refere ao significado dos programas escritos nessa linguagem. Isso inclui o que as instruções fazem, como as variáveis são manipuladas e como os programas interagem com o ambiente em que estão sendo executados.\n",
    "\n",
    "Em resumo, o léxico define as palavras que podem ser usadas em uma linguagem de programação, a sintaxe define as regras para combinar essas palavras em programas válidos, e a semântica define o significado dos programas escritos nessa linguagem.\n",
    "\n",
    "Exemplo:"
   ]
  },
  {
   "cell_type": "code",
   "execution_count": 1,
   "id": "409c600f",
   "metadata": {},
   "outputs": [
    {
     "name": "stdout",
     "output_type": "stream",
     "text": [
      "Hello World!\n"
     ]
    }
   ],
   "source": [
    "#Código exemplo 1: (Comentérios em códigos são sempre importantes,\n",
    "#caso o programador queira realizar demarcações ou quiser revisitar o código futuramente. \n",
    "#Comentários em python são definidos pelo caractere # antes do comentário\n",
    "# escritas com objetivo de comentário sem a demarcação, acarretam erro no código)\n",
    "print(\"Hello World!\")"
   ]
  },
  {
   "cell_type": "markdown",
   "id": "eccbe5e8",
   "metadata": {},
   "source": [
    "No código acima, imprimimos na tela com a função print(), que está embutida da linguagem python, a frase \"Hello World!\". É importante observar que a frase na função está entre aspas, pois as aspas são o artifício da linguagem que permite a identificação de strings, que é um dos tipos de dados presente na linguagem e a falta das aspas nesse caso causaria um erro de sintaxe no código que seria informado com uma mensagem de erro pela linguagem. Exemplo:\n",
    "        "
   ]
  },
  {
   "cell_type": "code",
   "execution_count": 2,
   "id": "b51f7aea",
   "metadata": {},
   "outputs": [
    {
     "ename": "SyntaxError",
     "evalue": "invalid syntax (Temp/ipykernel_4120/3167491202.py, line 2)",
     "output_type": "error",
     "traceback": [
      "\u001b[1;36m  File \u001b[1;32m\"C:\\Users\\domin\\AppData\\Local\\Temp/ipykernel_4120/3167491202.py\"\u001b[1;36m, line \u001b[1;32m2\u001b[0m\n\u001b[1;33m    print(Hello World!)\u001b[0m\n\u001b[1;37m                ^\u001b[0m\n\u001b[1;31mSyntaxError\u001b[0m\u001b[1;31m:\u001b[0m invalid syntax\n"
     ]
    }
   ],
   "source": [
    "#Código exemplo 2:\n",
    "print(Hello World!)"
   ]
  },
  {
   "cell_type": "markdown",
   "id": "750a357e",
   "metadata": {},
   "source": [
    "O interpretador python detecta erros de sintaxe na fase anterior à execução. O interpretador verifica, linha a linha, o código em busca de erros de sintaxe e quando encontrados a execução do código é interrompida e a mensagem de erro é exibida. Contudo, existem erros nos códigos que não são necessariamente sintáticos, são eles os erros semânticos, que se tratam de erros que ocorrem durante o tempo de execução do código. Eles ocorrem geralmente quando há algum engano na lógica do programador, o que acarreta e erro e falha futuros, gerando uma interrupção, com mensagem de erro, do código. \n",
    "\n",
    "Exemplo:"
   ]
  },
  {
   "cell_type": "code",
   "execution_count": 3,
   "id": "d9e5b1ed",
   "metadata": {},
   "outputs": [
    {
     "name": "stdout",
     "output_type": "stream",
     "text": [
      "1\n",
      "2\n",
      "3\n"
     ]
    },
    {
     "ename": "IndexError",
     "evalue": "list index out of range",
     "output_type": "error",
     "traceback": [
      "\u001b[1;31m---------------------------------------------------------------------------\u001b[0m",
      "\u001b[1;31mIndexError\u001b[0m                                Traceback (most recent call last)",
      "\u001b[1;32m~\\AppData\\Local\\Temp/ipykernel_4120/86569942.py\u001b[0m in \u001b[0;36m<module>\u001b[1;34m\u001b[0m\n\u001b[0;32m      2\u001b[0m \u001b[0mlista_cod3\u001b[0m \u001b[1;33m=\u001b[0m \u001b[1;33m[\u001b[0m\u001b[1;36m1\u001b[0m\u001b[1;33m,\u001b[0m \u001b[1;36m2\u001b[0m\u001b[1;33m,\u001b[0m \u001b[1;36m3\u001b[0m\u001b[1;33m]\u001b[0m\u001b[1;33m\u001b[0m\u001b[1;33m\u001b[0m\u001b[0m\n\u001b[0;32m      3\u001b[0m \u001b[1;32mfor\u001b[0m \u001b[0mi\u001b[0m \u001b[1;32min\u001b[0m \u001b[0mrange\u001b[0m\u001b[1;33m(\u001b[0m\u001b[1;36m4\u001b[0m\u001b[1;33m)\u001b[0m\u001b[1;33m:\u001b[0m\u001b[1;33m\u001b[0m\u001b[1;33m\u001b[0m\u001b[0m\n\u001b[1;32m----> 4\u001b[1;33m     \u001b[0mprint\u001b[0m\u001b[1;33m(\u001b[0m\u001b[0mlista_cod3\u001b[0m\u001b[1;33m[\u001b[0m\u001b[0mi\u001b[0m\u001b[1;33m]\u001b[0m\u001b[1;33m)\u001b[0m\u001b[1;33m\u001b[0m\u001b[1;33m\u001b[0m\u001b[0m\n\u001b[0m",
      "\u001b[1;31mIndexError\u001b[0m: list index out of range"
     ]
    }
   ],
   "source": [
    "#Código exemplo 3\n",
    "lista_cod3 = [1, 2, 3]\n",
    "for i in range(4):\n",
    "    print(lista_cod3[i])"
   ]
  },
  {
   "cell_type": "markdown",
   "id": "3ca8882d",
   "metadata": {},
   "source": [
    "No código exemplo 3, é definida uma lista(tipos de dados vão ser abordados mais à frente neste material) com 3 elementos, porém, no escopo da estrutura de repetição for, tenta-se acessar um quarto elemento na lista, como o elemento não existe, ocorre um erro em tempo de execução."
   ]
  },
  {
   "cell_type": "markdown",
   "id": "278dd6e2",
   "metadata": {},
   "source": [
    "### Palavras reservadas da linguagem Python"
   ]
  },
  {
   "cell_type": "markdown",
   "id": "ad8df45d",
   "metadata": {},
   "source": [
    "Como citado anteriormente, as linguagens de programação geralmente possuem palavras reservadas. Essas palavras reservadas são o que definem cada função e artifícios embutidas nas linguagens, não podendo ser utilizadas pelo programador em outra função além daquela definida pela linguagem, mas é sempre importante lembrar, que o uso de bibliotecas externas de funções e outras utilidades podem aumentar, quando utilizadas, o número de palavras reservadas nas linguagens.\n",
    "\n",
    "Em python, existem diversas palavras reservadas que definem tais funções. As palavras reservadas de python são:\n",
    "\n",
    "Palavras| reservadas |da| linguagem| Python\n",
    ":----- |:---------- |:--------- |:---------- |:-------\n",
    "and    |  continue  |  finally  |  is        |  raise \n",
    "as     |  def       |  for      |  lambda    |  return\n",
    "assert |  del       |  from     |  None      |  True \n",
    "async  |  elif      |  global   |  nonlocal  |  try   \n",
    "await  |  else      |  if       |  not       |  while \n",
    "break  |  except    |  import   |  or        |  with   \n",
    "class  |  False     |  in       |  pass      |  yield\n",
    "\n",
    "Exemplo:"
   ]
  },
  {
   "cell_type": "code",
   "execution_count": 4,
   "id": "d87d3f5b",
   "metadata": {},
   "outputs": [
    {
     "ename": "SyntaxError",
     "evalue": "invalid syntax (Temp/ipykernel_4120/566182613.py, line 2)",
     "output_type": "error",
     "traceback": [
      "\u001b[1;36m  File \u001b[1;32m\"C:\\Users\\domin\\AppData\\Local\\Temp/ipykernel_4120/566182613.py\"\u001b[1;36m, line \u001b[1;32m2\u001b[0m\n\u001b[1;33m    if = 12\u001b[0m\n\u001b[1;37m       ^\u001b[0m\n\u001b[1;31mSyntaxError\u001b[0m\u001b[1;31m:\u001b[0m invalid syntax\n"
     ]
    }
   ],
   "source": [
    "#Código exemplo 4\n",
    "if = 12"
   ]
  },
  {
   "cell_type": "markdown",
   "id": "07399ad2",
   "metadata": {},
   "source": [
    "No código de exemplo 4 exibido acima, é realizada a tentativa de se atribuir um valor à uma variável com o nome \"if\", porém, como if é uma das palavras reservadas pela linguagem, a atribuição acarreta um erro de sintaxe.\n",
    "\n",
    "Outro ponto a ser abordado na linguagem, é que Python é uma linguagem *case  sensitive*, ou seja, ela diferencia caracteres maiúsculos de minúsculos, seja em suas variáveis ou strings."
   ]
  }
 ],
 "metadata": {
  "kernelspec": {
   "display_name": "Python 3 (ipykernel)",
   "language": "python",
   "name": "python3"
  },
  "language_info": {
   "codemirror_mode": {
    "name": "ipython",
    "version": 3
   },
   "file_extension": ".py",
   "mimetype": "text/x-python",
   "name": "python",
   "nbconvert_exporter": "python",
   "pygments_lexer": "ipython3",
   "version": "3.9.7"
  }
 },
 "nbformat": 4,
 "nbformat_minor": 5
}
